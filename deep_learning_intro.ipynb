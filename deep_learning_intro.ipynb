{
 "cells": [
  {
   "cell_type": "code",
   "execution_count": 121,
   "id": "873ed0ef-6d1a-4c47-8617-d9b09a0e79cd",
   "metadata": {},
   "outputs": [],
   "source": [
    "import keras\n",
    "import numpy as np\n",
    "from keras import backend as K\n",
    "from keras import regularizers\n",
    "from keras.models import Sequential\n",
    "from keras.layers import Activation\n",
    "from keras.layers.core import Dense\n",
    "from keras.optimizers import Adam\n",
    "from keras.metrics import categorical_crossentropy\n",
    "from random import randint\n",
    "from sklearn.preprocessing import MinMaxScaler"
   ]
  },
  {
   "cell_type": "code",
   "execution_count": 122,
   "id": "1602e6f0",
   "metadata": {},
   "outputs": [],
   "source": [
    "train_labels = []\n",
    "train_samples = []\n",
    "\n",
    "#Example data: An experiment drug was tested on individuals from age 13 to 100.\n",
    "#The trail had 2100 participants. Half were under 65, half were over 65.\n",
    "#95% of patients 65 or older experienced side effects.\n",
    "#95% of patients under 65 experienced no side effects.\n",
    "\n",
    "for i in range(1000):\n",
    "    random_younger = randint(13, 64)\n",
    "    train_samples.append(random_younger)\n",
    "    train_labels.append(0)\n",
    "\n",
    "    random_older = randint(65, 100)\n",
    "    train_samples.append(random_older)\n",
    "    train_labels.append(1)\n",
    "\n",
    "for i in range(50):\n",
    "    random_younger = randint(13, 64)\n",
    "    train_samples.append(random_younger)\n",
    "    train_labels.append(1)\n",
    "\n",
    "    random_older = randint(65, 100)\n",
    "    train_samples.append(random_older)\n",
    "    train_labels.append(0)\n",
    "\n",
    "#for i in train_samples:\n",
    "    #print(i)\n",
    "\n",
    "#for i in train_labels:\n",
    "    #print(i)\n",
    "\n",
    "train_labels = np.array(train_labels)\n",
    "train_samples = np.array(train_samples)\n",
    "\n",
    "scaler = MinMaxScaler(feature_range = (0, 1))\n",
    "scaled_train_samples = scaler.fit_transform((train_samples).reshape(-1, 1))"
   ]
  },
  {
   "cell_type": "code",
   "execution_count": 123,
   "id": "76b51933-7906-4733-b8d2-4c38b99d591a",
   "metadata": {},
   "outputs": [],
   "source": [
    "model = Sequential ([\n",
    "    Dense(units = 16, input_shape = (1,), activation = 'relu'),\n",
    "    Dense(units = 32, activation = 'relu'),\n",
    "    Dense(units = 2, activation = 'sigmoid')\n",
    "])"
   ]
  },
  {
   "cell_type": "code",
   "execution_count": 124,
   "id": "b1388662",
   "metadata": {},
   "outputs": [],
   "source": [
    "model.compile(\n",
    "    optimizer = Adam(learning_rate = 0.0001), loss = 'sparse_categorical_crossentropy', metrics = ['accuracy'])"
   ]
  },
  {
   "cell_type": "code",
   "execution_count": 125,
   "id": "201dfe0f",
   "metadata": {},
   "outputs": [
    {
     "name": "stdout",
     "output_type": "stream",
     "text": [
      "Epoch 1/20\n",
      "168/168 - 1s - loss: 0.6695 - accuracy: 0.5476 - val_loss: 0.6765 - val_accuracy: 0.5286\n",
      "Epoch 2/20\n",
      "168/168 - 0s - loss: 0.6413 - accuracy: 0.6244 - val_loss: 0.6630 - val_accuracy: 0.5786\n",
      "Epoch 3/20\n",
      "168/168 - 0s - loss: 0.6036 - accuracy: 0.7327 - val_loss: 0.6466 - val_accuracy: 0.6405\n",
      "Epoch 4/20\n",
      "168/168 - 0s - loss: 0.5650 - accuracy: 0.7815 - val_loss: 0.6339 - val_accuracy: 0.6619\n",
      "Epoch 5/20\n",
      "168/168 - 0s - loss: 0.5291 - accuracy: 0.8095 - val_loss: 0.6223 - val_accuracy: 0.6929\n",
      "Epoch 6/20\n",
      "168/168 - 0s - loss: 0.4931 - accuracy: 0.8363 - val_loss: 0.6129 - val_accuracy: 0.7024\n",
      "Epoch 7/20\n",
      "168/168 - 0s - loss: 0.4579 - accuracy: 0.8512 - val_loss: 0.6039 - val_accuracy: 0.7071\n",
      "Epoch 8/20\n",
      "168/168 - 0s - loss: 0.4232 - accuracy: 0.8726 - val_loss: 0.5981 - val_accuracy: 0.7095\n",
      "Epoch 9/20\n",
      "168/168 - 0s - loss: 0.3898 - accuracy: 0.9000 - val_loss: 0.5970 - val_accuracy: 0.7190\n",
      "Epoch 10/20\n",
      "168/168 - 0s - loss: 0.3581 - accuracy: 0.9024 - val_loss: 0.5971 - val_accuracy: 0.7262\n",
      "Epoch 11/20\n",
      "168/168 - 0s - loss: 0.3285 - accuracy: 0.9208 - val_loss: 0.6003 - val_accuracy: 0.7286\n",
      "Epoch 12/20\n",
      "168/168 - 0s - loss: 0.3015 - accuracy: 0.9268 - val_loss: 0.6063 - val_accuracy: 0.7262\n",
      "Epoch 13/20\n",
      "168/168 - 0s - loss: 0.2771 - accuracy: 0.9411 - val_loss: 0.6157 - val_accuracy: 0.7381\n",
      "Epoch 14/20\n",
      "168/168 - 0s - loss: 0.2554 - accuracy: 0.9476 - val_loss: 0.6280 - val_accuracy: 0.7452\n",
      "Epoch 15/20\n",
      "168/168 - 0s - loss: 0.2363 - accuracy: 0.9524 - val_loss: 0.6430 - val_accuracy: 0.7452\n",
      "Epoch 16/20\n",
      "168/168 - 0s - loss: 0.2195 - accuracy: 0.9589 - val_loss: 0.6577 - val_accuracy: 0.7429\n",
      "Epoch 17/20\n",
      "168/168 - 0s - loss: 0.2047 - accuracy: 0.9637 - val_loss: 0.6746 - val_accuracy: 0.7429\n",
      "Epoch 18/20\n",
      "168/168 - 0s - loss: 0.1916 - accuracy: 0.9655 - val_loss: 0.6916 - val_accuracy: 0.7405\n",
      "Epoch 19/20\n",
      "168/168 - 0s - loss: 0.1801 - accuracy: 0.9690 - val_loss: 0.7125 - val_accuracy: 0.7405\n",
      "Epoch 20/20\n",
      "168/168 - 0s - loss: 0.1700 - accuracy: 0.9690 - val_loss: 0.7327 - val_accuracy: 0.7405\n"
     ]
    },
    {
     "data": {
      "text/plain": [
       "<keras.callbacks.History at 0x7fd6b94b3cd0>"
      ]
     },
     "execution_count": 125,
     "metadata": {},
     "output_type": "execute_result"
    }
   ],
   "source": [
    "model.fit(\n",
    "    x = scaled_train_samples,\n",
    "    y= train_labels,\n",
    "    validation_split = 0.20,\n",
    "    batch_size = 10,\n",
    "    epochs = 20,\n",
    "    shuffle = True,\n",
    "    verbose = 2\n",
    ")"
   ]
  }
 ],
 "metadata": {
  "kernelspec": {
   "display_name": "Python 3",
   "language": "python",
   "name": "python3"
  },
  "language_info": {
   "codemirror_mode": {
    "name": "ipython",
    "version": 3
   },
   "file_extension": ".py",
   "mimetype": "text/x-python",
   "name": "python",
   "nbconvert_exporter": "python",
   "pygments_lexer": "ipython3",
   "version": "3.9.3"
  }
 },
 "nbformat": 4,
 "nbformat_minor": 5
}
